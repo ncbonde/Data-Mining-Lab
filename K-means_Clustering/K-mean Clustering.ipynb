{
 "cells": [
  {
   "cell_type": "code",
   "execution_count": 55,
   "metadata": {
    "collapsed": true
   },
   "outputs": [],
   "source": [
    "import sys\n",
    "import random\n",
    "import pandas as pd"
   ]
  },
  {
   "cell_type": "code",
   "execution_count": 56,
   "metadata": {},
   "outputs": [
    {
     "name": "stdout",
     "output_type": "stream",
     "text": [
      "no of data points:-4\n",
      "no of features in each data points:-2\n",
      "no of cluster to form:-2\n"
     ]
    }
   ],
   "source": [
    "no_of_points=int(raw_input(\"no of data points:-\"))\n",
    "no_of_features=int(raw_input(\"no of features in each data points:-\"))\n",
    "no_of_cluster=int(raw_input(\"no of cluster to form:-\"))"
   ]
  },
  {
   "cell_type": "code",
   "execution_count": 57,
   "metadata": {},
   "outputs": [
    {
     "name": "stdout",
     "output_type": "stream",
     "text": [
      "Enter feature of 0 th point (space sperated):- 1 1\n",
      "Enter feature of 1 th point (space sperated):- 2 2\n",
      "Enter feature of 2 th point (space sperated):- 88 88\n",
      "Enter feature of 3 th point (space sperated):- 99 99\n"
     ]
    }
   ],
   "source": [
    "data=[]\n",
    "for i in range(0,no_of_points):\n",
    "    point=map(int,(raw_input(\"Enter feature of {} th point (space sperated):- \" .format(i))).split(\" \"))\n",
    "    if(len(point)!= no_of_features):\n",
    "        print (\"you enter wrong no of feature for {} th point\" ,format(i))\n",
    "        break\n",
    "    data.append(point)\n",
    "    \n",
    "        "
   ]
  },
  {
   "cell_type": "code",
   "execution_count": 58,
   "metadata": {},
   "outputs": [
    {
     "name": "stdout",
     "output_type": "stream",
     "text": [
      "Given data points are:- [[1, 1], [2, 2], [88, 88], [99, 99]]\n"
     ]
    }
   ],
   "source": [
    "print (\"Given data points are:- {}\" .format(data))"
   ]
  },
  {
   "cell_type": "code",
   "execution_count": 59,
   "metadata": {},
   "outputs": [
    {
     "name": "stdout",
     "output_type": "stream",
     "text": [
      "[2, 3]\n"
     ]
    }
   ],
   "source": [
    "index_list=random.sample(range(0,no_of_points),no_of_cluster)\n",
    "print index_list"
   ]
  },
  {
   "cell_type": "code",
   "execution_count": 60,
   "metadata": {},
   "outputs": [
    {
     "name": "stdout",
     "output_type": "stream",
     "text": [
      "[[88, 88], [99, 99]]\n"
     ]
    }
   ],
   "source": [
    "centers=[data[i] for i in index_list]\n",
    "print centers"
   ]
  },
  {
   "cell_type": "code",
   "execution_count": 61,
   "metadata": {
    "collapsed": true
   },
   "outputs": [],
   "source": [
    "def distance(point,center):\n",
    "    return sum((point[i]-center[i])**2 for i in range(0,no_of_features))**0.5"
   ]
  },
  {
   "cell_type": "code",
   "execution_count": 62,
   "metadata": {},
   "outputs": [
    {
     "name": "stdout",
     "output_type": "stream",
     "text": [
      "1iteration\n",
      "\n",
      "[[30.333333333333332, 30.333333333333332], [99.0, 99.0]]\n",
      "[0, 0, 0, 1]\n"
     ]
    }
   ],
   "source": [
    "clusters=[0]*no_of_points\n",
    "pre_clusters=[0]*no_of_points\n",
    "while(True):\n",
    "    #clusters=[0]*no_of_points\n",
    "    for j in range(0,no_of_points):\n",
    "        min_dist=sys.maxsize\n",
    "        \n",
    "        for k in range(0,no_of_cluster):\n",
    "            dist=distance(data[j],centers[k])\n",
    "            if(dist<min_dist):\n",
    "                min_dist=dist\n",
    "                clusters[j]=k\n",
    "    if(pre_clusters==clusters):\n",
    "        break\n",
    "    \n",
    "    centers=[[0,0]]*no_of_cluster\n",
    "    for i in range(0,no_of_cluster):\n",
    "        points_of_i_th_cluster=[data[itr] for itr in range(0,no_of_points) if clusters[itr]==i]\n",
    "        n=float(len(points_of_i_th_cluster))\n",
    "        centers[i]=[eval('sum(points_of_i_th_cluster[di][fi] for di in range(0,len(points_of_i_th_cluster)))/n') for fi in range(0,no_of_features)]\n",
    "    \n",
    "    print(str(i) + \"iteration\\n\")\n",
    "    print(centers)\n",
    "    print(clusters)\n",
    "    pre_clusters=clusters"
   ]
  },
  {
   "cell_type": "code",
   "execution_count": null,
   "metadata": {
    "collapsed": true
   },
   "outputs": [],
   "source": []
  },
  {
   "cell_type": "code",
   "execution_count": null,
   "metadata": {
    "collapsed": true
   },
   "outputs": [],
   "source": []
  },
  {
   "cell_type": "code",
   "execution_count": null,
   "metadata": {
    "collapsed": true
   },
   "outputs": [],
   "source": []
  }
 ],
 "metadata": {
  "kernelspec": {
   "display_name": "Python 2",
   "language": "python",
   "name": "python2"
  },
  "language_info": {
   "codemirror_mode": {
    "name": "ipython",
    "version": 2
   },
   "file_extension": ".py",
   "mimetype": "text/x-python",
   "name": "python",
   "nbconvert_exporter": "python",
   "pygments_lexer": "ipython2",
   "version": "2.7.14"
  }
 },
 "nbformat": 4,
 "nbformat_minor": 2
}
