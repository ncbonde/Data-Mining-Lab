{
 "cells": [
  {
   "cell_type": "code",
   "execution_count": 189,
   "metadata": {
    "collapsed": true
   },
   "outputs": [],
   "source": [
    "import pandas as pd\n",
    "import numpy as np\n",
    "import sys"
   ]
  },
  {
   "cell_type": "code",
   "execution_count": 190,
   "metadata": {},
   "outputs": [
    {
     "data": {
      "text/html": [
       "<div>\n",
       "<style>\n",
       "    .dataframe thead tr:only-child th {\n",
       "        text-align: right;\n",
       "    }\n",
       "\n",
       "    .dataframe thead th {\n",
       "        text-align: left;\n",
       "    }\n",
       "\n",
       "    .dataframe tbody tr th {\n",
       "        vertical-align: top;\n",
       "    }\n",
       "</style>\n",
       "<table border=\"1\" class=\"dataframe\">\n",
       "  <thead>\n",
       "    <tr style=\"text-align: right;\">\n",
       "      <th></th>\n",
       "      <th>Lable</th>\n",
       "      <th>x</th>\n",
       "    </tr>\n",
       "  </thead>\n",
       "  <tbody>\n",
       "    <tr>\n",
       "      <th>0</th>\n",
       "      <td>A</td>\n",
       "      <td>1</td>\n",
       "    </tr>\n",
       "    <tr>\n",
       "      <th>1</th>\n",
       "      <td>B</td>\n",
       "      <td>2</td>\n",
       "    </tr>\n",
       "    <tr>\n",
       "      <th>2</th>\n",
       "      <td>C</td>\n",
       "      <td>11</td>\n",
       "    </tr>\n",
       "    <tr>\n",
       "      <th>3</th>\n",
       "      <td>D</td>\n",
       "      <td>12</td>\n",
       "    </tr>\n",
       "    <tr>\n",
       "      <th>4</th>\n",
       "      <td>E</td>\n",
       "      <td>40</td>\n",
       "    </tr>\n",
       "  </tbody>\n",
       "</table>\n",
       "</div>"
      ],
      "text/plain": [
       "  Lable   x\n",
       "0     A   1\n",
       "1     B   2\n",
       "2     C  11\n",
       "3     D  12\n",
       "4     E  40"
      ]
     },
     "execution_count": 190,
     "metadata": {},
     "output_type": "execute_result"
    }
   ],
   "source": [
    "data=pd.read_csv(\"Hierarchical_clustering_class_que.csv\")\n",
    "header=list(data)\n",
    "no_of_points=len(data)\n",
    "data"
   ]
  },
  {
   "cell_type": "code",
   "execution_count": 191,
   "metadata": {
    "collapsed": true
   },
   "outputs": [],
   "source": [
    "#collect lables\n",
    "lable=[]\n",
    "for i in range(0,len(data)):\n",
    "    lable.append(data[header[0]][i])"
   ]
  },
  {
   "cell_type": "code",
   "execution_count": 192,
   "metadata": {
    "collapsed": true
   },
   "outputs": [],
   "source": [
    "def distance(point_index1,point_index2):\n",
    "    #return sum((data[header[i]][point_index1]-data[header[i]][point_index2])**2 for i in range(1,len(header)))**0.5\n",
    "    return abs(sum(data[header[i]][point_index1]-data[header[i]][point_index2] for i in range(1,len(header))))"
   ]
  },
  {
   "cell_type": "code",
   "execution_count": 193,
   "metadata": {},
   "outputs": [
    {
     "data": {
      "text/plain": [
       "array([[  9.22337204e+18,   9.22337204e+18,   9.22337204e+18,\n",
       "          9.22337204e+18,   9.22337204e+18],\n",
       "       [  9.22337204e+18,   9.22337204e+18,   9.22337204e+18,\n",
       "          9.22337204e+18,   9.22337204e+18],\n",
       "       [  9.22337204e+18,   9.22337204e+18,   9.22337204e+18,\n",
       "          9.22337204e+18,   9.22337204e+18],\n",
       "       [  9.22337204e+18,   9.22337204e+18,   9.22337204e+18,\n",
       "          9.22337204e+18,   9.22337204e+18],\n",
       "       [  9.22337204e+18,   9.22337204e+18,   9.22337204e+18,\n",
       "          9.22337204e+18,   9.22337204e+18]])"
      ]
     },
     "execution_count": 193,
     "metadata": {},
     "output_type": "execute_result"
    }
   ],
   "source": [
    "dist_matrix=np.ones(shape=(no_of_points,no_of_points))*(sys.maxsize)\n",
    "point_list=lable[:]\n",
    "dist_matrix"
   ]
  },
  {
   "cell_type": "code",
   "execution_count": 194,
   "metadata": {
    "collapsed": true
   },
   "outputs": [],
   "source": [
    "def cal_distance(no_of_points,point_list,dist_matrix):\n",
    "    #print point_list\n",
    "    for i in range(0,no_of_points):\n",
    "        for j in range(0,i):\n",
    "            tmp=sys.maxsize\n",
    "            #print (\"i=\"+str(i))\n",
    "            for k in point_list[i]:\n",
    "                for l in point_list[j]:\n",
    "                    dist=distance(lable.index(k),lable.index(l))\n",
    "                    if(tmp>dist):\n",
    "                        tmp=dist\n",
    "            dist_matrix[i][j]=tmp"
   ]
  },
  {
   "cell_type": "code",
   "execution_count": 195,
   "metadata": {},
   "outputs": [],
   "source": [
    "cnt=1\n",
    "while(True):\n",
    "    #print cnt\n",
    "    cnt =cnt+1\n",
    "    cal_distance(no_of_points,point_list,dist_matrix)\n",
    "    #min_index=dist_matrix.argmin()\n",
    "    min_index=np.unravel_index(dist_matrix.argmin(), dist_matrix.shape)\n",
    "    #print min_index\n",
    "    tmp_list=point_list[:]\n",
    "    point_list=[]\n",
    "    for i in range(0,len(tmp_list)):\n",
    "        if(not(i in min_index)):\n",
    "            point_list.append(tmp_list[i])\n",
    "    point_list.append([])\n",
    "    for i in min_index:\n",
    "        for j in tmp_list[i]:\n",
    "            point_list[-1].append(j)\n",
    "    no_of_points=no_of_points-1\n",
    "    if(len(point_list)==1):\n",
    "        break\n",
    "    dist_matrix=np.ones(shape=(no_of_points,no_of_points))*(sys.maxsize)"
   ]
  },
  {
   "cell_type": "code",
   "execution_count": 196,
   "metadata": {},
   "outputs": [
    {
     "name": "stdout",
     "output_type": "stream",
     "text": [
      "28.0\n"
     ]
    }
   ],
   "source": [
    "print dist_matrix.min()"
   ]
  },
  {
   "cell_type": "code",
   "execution_count": null,
   "metadata": {
    "collapsed": true
   },
   "outputs": [],
   "source": []
  }
 ],
 "metadata": {
  "kernelspec": {
   "display_name": "Python 2",
   "language": "python",
   "name": "python2"
  },
  "language_info": {
   "codemirror_mode": {
    "name": "ipython",
    "version": 2
   },
   "file_extension": ".py",
   "mimetype": "text/x-python",
   "name": "python",
   "nbconvert_exporter": "python",
   "pygments_lexer": "ipython2",
   "version": "2.7.14"
  }
 },
 "nbformat": 4,
 "nbformat_minor": 2
}
