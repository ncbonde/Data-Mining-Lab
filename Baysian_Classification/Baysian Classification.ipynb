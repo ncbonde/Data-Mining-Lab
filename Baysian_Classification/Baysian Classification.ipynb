{
 "cells": [
  {
   "cell_type": "code",
   "execution_count": 32,
   "metadata": {
    "collapsed": true
   },
   "outputs": [],
   "source": [
    "import numpy as np\n",
    "import pandas as pd"
   ]
  },
  {
   "cell_type": "code",
   "execution_count": 33,
   "metadata": {},
   "outputs": [
    {
     "name": "stdout",
     "output_type": "stream",
     "text": [
      "         age income student creadite rating buy laptop\n",
      "0        <30      h       n               f          n\n",
      "1        <30      h       n               e          n\n",
      "2   31 to 40      h       n               f          y\n",
      "3        >40      m       n               f          y\n",
      "4        >40      l       y               f          y\n",
      "5        >40      l       y               e          n\n",
      "6   31 to 40      l       y               e          y\n",
      "7        <30      m       n               f          n\n",
      "8        <30      l       y               f          y\n",
      "9        >40      m       y               f          y\n",
      "10       <30      m       y               e          y\n",
      "11  31 to 40      m       n               e          y\n",
      "12  31 to 40      h       y               f          y\n",
      "13       >40      m       n               e          n\n",
      "['age', 'income', 'student', 'creadite rating', 'buy laptop']\n"
     ]
    }
   ],
   "source": [
    "data=pd.read_csv(\"laptop.csv\",header=0)\n",
    "print data\n",
    "headers=list(data)\n",
    "print headers"
   ]
  },
  {
   "cell_type": "code",
   "execution_count": 34,
   "metadata": {
    "collapsed": true
   },
   "outputs": [],
   "source": [
    "def classify(atribute,value):\n",
    "    return pd.pivot_table(data,index=data[atribute],columns=[headers[-1]],values=[value],aggfunc='count')\n",
    "    "
   ]
  },
  {
   "cell_type": "code",
   "execution_count": 35,
   "metadata": {},
   "outputs": [
    {
     "data": {
      "text/plain": [
       "[['>40', '31 to 40', '<30'],\n",
       " ['h', 'm', 'l'],\n",
       " ['y', 'n'],\n",
       " ['e', 'f'],\n",
       " ['y', 'n']]"
      ]
     },
     "execution_count": 35,
     "metadata": {},
     "output_type": "execute_result"
    }
   ],
   "source": [
    "atribute_value=[]\n",
    "for i in headers:\n",
    "    s=list(set(data[i]))\n",
    "    atribute_value.append(s)\n",
    "atribute_value"
   ]
  },
  {
   "cell_type": "code",
   "execution_count": 36,
   "metadata": {},
   "outputs": [
    {
     "data": {
      "text/plain": [
       "[buy laptop    n    y  total\n",
       " age                        \n",
       " 31 to 40    0.0  4.0    4.0\n",
       " <30         3.0  2.0    5.0\n",
       " >40         2.0  3.0    5.0, buy laptop  n  y  total\n",
       " income                 \n",
       " h           2  2      4\n",
       " l           1  3      4\n",
       " m           2  4      6, buy laptop  n  y  total\n",
       " student                \n",
       " n           4  3      7\n",
       " y           1  6      7, buy laptop       n  y  total\n",
       " creadite rating             \n",
       " e                3  3      6\n",
       " f                2  6      8]"
      ]
     },
     "execution_count": 36,
     "metadata": {},
     "output_type": "execute_result"
    }
   ],
   "source": [
    "summary=[]\n",
    "for i in range(0,len(headers)-1):\n",
    "    if(headers[i]==headers[-2]):\n",
    "        tmp_data_frame=classify(headers[i],headers[1])\n",
    "        tmp_data_frame=tmp_data_frame[headers[1]]\n",
    "        #print (summary[-1]['total'])\n",
    "    else:\n",
    "        tmp_data_frame=classify(headers[i],headers[i+1])\n",
    "        tmp_data_frame=tmp_data_frame[headers[i+1]]\n",
    "    summary.append(tmp_data_frame)\n",
    "    summary[-1]=summary[-1].fillna(0)\n",
    "    summary[-1]['total']=summary[-1][atribute_value[-1][0]]+summary[-1][atribute_value[-1][1]]\n",
    "        \n",
    "summary"
   ]
  },
  {
   "cell_type": "code",
   "execution_count": 37,
   "metadata": {
    "collapsed": true
   },
   "outputs": [],
   "source": [
    "def for_yes(input_list):\n",
    "    y=len([i for i in data[headers[-1]] if i=='y'])\n",
    "    ans=y/float(len(data))\n",
    "    for i in range(0,len(headers)-1):\n",
    "        ans=ans*(summary[i]['y'][input_list[i]]/float(summary[i]['total'][input_list[i]]))\n",
    "    return ans"
   ]
  },
  {
   "cell_type": "code",
   "execution_count": 38,
   "metadata": {
    "collapsed": true
   },
   "outputs": [],
   "source": [
    "def for_no(input_list):\n",
    "    n=len([i for i in data[headers[-1]] if i=='n'])\n",
    "    ans=n/float(len(data))\n",
    "    for i in range(0,len(headers)-1):\n",
    "        ans=ans*(summary[i]['n'][input_list[i]]/float(summary[i]['total'][input_list[i]]))\n",
    "    return ans"
   ]
  },
  {
   "cell_type": "code",
   "execution_count": 39,
   "metadata": {},
   "outputs": [
    {
     "name": "stdout",
     "output_type": "stream",
     "text": [
      "Enter age as ['>40', '31 to 40', '<30']<30\n",
      "Enter income as ['h', 'm', 'l']l\n",
      "Enter student as ['y', 'n']n\n",
      "Enter creadite rating as ['e', 'f']e\n",
      "probability for classified to be yes is 0.0413265306122\n",
      "probability for classified to be no is 0.015306122449\n"
     ]
    }
   ],
   "source": [
    "input_list=[]\n",
    "for i in range(0,len(headers)-1):\n",
    "    input_list.append(raw_input(\"Enter {} as {}\" .format(headers[i],atribute_value[i])))\n",
    "y=for_yes(input_list)    \n",
    "print (\"probability for classified to be yes is {}\" .format(y))\n",
    "print (\"probability for classified to be no is {}\" .format(for_no(input_list)))"
   ]
  },
  {
   "cell_type": "code",
   "execution_count": null,
   "metadata": {
    "collapsed": true
   },
   "outputs": [],
   "source": []
  },
  {
   "cell_type": "code",
   "execution_count": null,
   "metadata": {
    "collapsed": true
   },
   "outputs": [],
   "source": []
  }
 ],
 "metadata": {
  "kernelspec": {
   "display_name": "Python 2",
   "language": "python",
   "name": "python2"
  },
  "language_info": {
   "codemirror_mode": {
    "name": "ipython",
    "version": 2
   },
   "file_extension": ".py",
   "mimetype": "text/x-python",
   "name": "python",
   "nbconvert_exporter": "python",
   "pygments_lexer": "ipython2",
   "version": "2.7.14"
  }
 },
 "nbformat": 4,
 "nbformat_minor": 2
}
