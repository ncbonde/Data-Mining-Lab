{
 "cells": [
  {
   "cell_type": "code",
   "execution_count": 6,
   "metadata": {
    "collapsed": true
   },
   "outputs": [],
   "source": [
    "import numpy as np\n",
    "import pandas as pd\n",
    "import math"
   ]
  },
  {
   "cell_type": "code",
   "execution_count": 7,
   "metadata": {},
   "outputs": [
    {
     "name": "stdout",
     "output_type": "stream",
     "text": [
      "         age income student creadite rating buy laptop\n",
      "0        <30      h       n               f          n\n",
      "1        <30      h       n               e          n\n",
      "2   31 to 40      h       n               f          y\n",
      "3        >40      m       n               f          y\n",
      "4        >40      l       y               f          y\n",
      "5        >40      l       y               e          n\n",
      "6   31 to 40      l       y               e          y\n",
      "7        <30      m       n               f          n\n",
      "8        <30      l       y               f          y\n",
      "9        >40      m       y               f          y\n",
      "10       <30      m       y               e          y\n",
      "11  31 to 40      m       n               e          y\n",
      "12  31 to 40      h       y               f          y\n",
      "13       >40      m       n               e          n\n",
      "['age', 'income', 'student', 'creadite rating', 'buy laptop']\n"
     ]
    }
   ],
   "source": [
    "data=pd.read_csv(\"laptop.csv\",header=0)\n",
    "print data\n",
    "headers=list(data)\n",
    "print headers"
   ]
  },
  {
   "cell_type": "code",
   "execution_count": 8,
   "metadata": {
    "collapsed": true
   },
   "outputs": [],
   "source": [
    "def classify(atribute,value):\n",
    "    return pd.pivot_table(data,index=data[atribute],columns=[headers[-1]],values=[value],aggfunc='count')\n",
    "    "
   ]
  },
  {
   "cell_type": "code",
   "execution_count": 4,
   "metadata": {},
   "outputs": [
    {
     "data": {
      "text/plain": [
       "[['>40', '31 to 40', '<30'],\n",
       " ['h', 'm', 'l'],\n",
       " ['y', 'n'],\n",
       " ['e', 'f'],\n",
       " ['y', 'n']]"
      ]
     },
     "execution_count": 4,
     "metadata": {},
     "output_type": "execute_result"
    }
   ],
   "source": [
    "atribute_value=[]\n",
    "for i in headers:\n",
    "    s=list(set(data[i]))\n",
    "    atribute_value.append(s)\n",
    "atribute_value"
   ]
  },
  {
   "cell_type": "code",
   "execution_count": 5,
   "metadata": {},
   "outputs": [
    {
     "data": {
      "text/html": [
       "<div>\n",
       "<style>\n",
       "    .dataframe thead tr:only-child th {\n",
       "        text-align: right;\n",
       "    }\n",
       "\n",
       "    .dataframe thead th {\n",
       "        text-align: left;\n",
       "    }\n",
       "\n",
       "    .dataframe tbody tr th {\n",
       "        vertical-align: top;\n",
       "    }\n",
       "</style>\n",
       "<table border=\"1\" class=\"dataframe\">\n",
       "  <thead>\n",
       "    <tr style=\"text-align: right;\">\n",
       "      <th>buy laptop</th>\n",
       "      <th>n</th>\n",
       "      <th>y</th>\n",
       "      <th>total</th>\n",
       "    </tr>\n",
       "    <tr>\n",
       "      <th>age</th>\n",
       "      <th></th>\n",
       "      <th></th>\n",
       "      <th></th>\n",
       "    </tr>\n",
       "  </thead>\n",
       "  <tbody>\n",
       "    <tr>\n",
       "      <th>31 to 40</th>\n",
       "      <td>0.0</td>\n",
       "      <td>4.0</td>\n",
       "      <td>4.0</td>\n",
       "    </tr>\n",
       "    <tr>\n",
       "      <th>&lt;30</th>\n",
       "      <td>3.0</td>\n",
       "      <td>2.0</td>\n",
       "      <td>5.0</td>\n",
       "    </tr>\n",
       "    <tr>\n",
       "      <th>&gt;40</th>\n",
       "      <td>2.0</td>\n",
       "      <td>3.0</td>\n",
       "      <td>5.0</td>\n",
       "    </tr>\n",
       "  </tbody>\n",
       "</table>\n",
       "</div>"
      ],
      "text/plain": [
       "buy laptop    n    y  total\n",
       "age                        \n",
       "31 to 40    0.0  4.0    4.0\n",
       "<30         3.0  2.0    5.0\n",
       ">40         2.0  3.0    5.0"
      ]
     },
     "execution_count": 5,
     "metadata": {},
     "output_type": "execute_result"
    }
   ],
   "source": [
    "summary=[]\n",
    "for i in range(0,len(headers)-1):\n",
    "    if(headers[i]==headers[-2]):\n",
    "        tmp_data_frame=classify(headers[i],headers[1])\n",
    "        tmp_data_frame=tmp_data_frame[headers[1]]\n",
    "        #print (summary[-1]['total'])\n",
    "    else:\n",
    "        tmp_data_frame=classify(headers[i],headers[i+1])\n",
    "        tmp_data_frame=tmp_data_frame[headers[i+1]]\n",
    "    summary.append(tmp_data_frame)\n",
    "    summary[-1]=summary[-1].fillna(0)\n",
    "    summary[-1]['total']=summary[-1][atribute_value[-1][0]]+summary[-1][atribute_value[-1][1]]\n",
    "        \n",
    "summary[0]"
   ]
  },
  {
   "cell_type": "code",
   "execution_count": 6,
   "metadata": {
    "collapsed": true
   },
   "outputs": [],
   "source": [
    "def total_info():\n",
    "    y=len([i for i in data[headers[-1]] if i=='y'])/float(len(data))\n",
    "    n=len([i for i in data[headers[-1]] if i=='n'])/float(len(data))\n",
    "    return (y*math.log(y,2)+n*math.log(n,2))*-1"
   ]
  },
  {
   "cell_type": "code",
   "execution_count": 7,
   "metadata": {
    "collapsed": true
   },
   "outputs": [],
   "source": [
    "def info(i):\n",
    "    ans=0\n",
    "    for j in atribute_value[i]:\n",
    "        p1=summary[i]['n'][j]/float(summary[i]['total'][j])\n",
    "        p2=summary[i]['y'][j]/float(summary[i]['total'][j])\n",
    "        p=summary[i]['total'][j]/float(sum(summary[i]['total']))\n",
    "        if(p1==0):\n",
    "            p1=0\n",
    "        else:\n",
    "            p1=p1*math.log(p1,2)\n",
    "        if(p2==0):\n",
    "            p2=0\n",
    "        else:\n",
    "            p2=p2*math.log(p2,2)\n",
    "        ans=ans+(p1+p2)*p\n",
    "    return -1*ans\n",
    "    "
   ]
  },
  {
   "cell_type": "code",
   "execution_count": 8,
   "metadata": {},
   "outputs": [
    {
     "name": "stdout",
     "output_type": "stream",
     "text": [
      "information gain for age is:-\n",
      "0.246749819774\n",
      "information gain for income is:-\n",
      "0.029222565659\n",
      "information gain for student is:-\n",
      "0.151835501362\n",
      "information gain for creadite rating is:-\n",
      "0.0481270304083\n"
     ]
    }
   ],
   "source": [
    "for i in range(0,len(headers)-1):\n",
    "    print \"information gain for {} is:-\" .format(headers[i])\n",
    "    print total_info()-info(i)\n",
    "    #print(\"information gain for {} is {} \" .format((headers[i],total_info()-info(i))))"
   ]
  },
  {
   "cell_type": "code",
   "execution_count": null,
   "metadata": {
    "collapsed": true
   },
   "outputs": [],
   "source": []
  }
 ],
 "metadata": {
  "kernelspec": {
   "display_name": "Python 2",
   "language": "python",
   "name": "python2"
  },
  "language_info": {
   "codemirror_mode": {
    "name": "ipython",
    "version": 2
   },
   "file_extension": ".py",
   "mimetype": "text/x-python",
   "name": "python",
   "nbconvert_exporter": "python",
   "pygments_lexer": "ipython2",
   "version": "2.7.14"
  }
 },
 "nbformat": 4,
 "nbformat_minor": 2
}
